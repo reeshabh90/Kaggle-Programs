{
 "cells": [
  {
   "cell_type": "code",
   "execution_count": 3,
   "metadata": {},
   "outputs": [
    {
     "name": "stdout",
     "output_type": "stream",
     "text": [
      "       Rooms  Distance  Postcode  Bedroom2  Bathroom  Car  Landsize   \n",
      "8505       4       8.0    3016.0       4.0       2.0  2.0     450.0  \\\n",
      "5523       2       6.6    3011.0       2.0       1.0  0.0     172.0   \n",
      "12852      3      10.5    3020.0       3.0       1.0  1.0     581.0   \n",
      "4818       3       4.5    3181.0       2.0       2.0  1.0     128.0   \n",
      "12812      3       8.5    3044.0       3.0       2.0  2.0     480.0   \n",
      "...      ...       ...       ...       ...       ...  ...       ...   \n",
      "2664       2       6.4    3011.0       2.0       1.0  1.0      47.0   \n",
      "8513       4       8.0    3016.0       4.0       2.0  4.0     551.0   \n",
      "12922      3      10.8    3105.0       3.0       1.0  1.0     757.0   \n",
      "10761      4       6.2    3039.0       4.0       1.0  3.0     478.0   \n",
      "2110       2       1.6    3066.0       2.0       1.0  2.0     159.0   \n",
      "\n",
      "       BuildingArea  YearBuilt  Lattitude  Longtitude  Propertycount  \n",
      "8505          190.0     1910.0  -37.86100   144.89850         6380.0  \n",
      "5523           81.0     1900.0  -37.81000   144.88960         2417.0  \n",
      "12852           NaN        NaN  -37.76740   144.82421         4217.0  \n",
      "4818          134.0     2000.0  -37.85260   145.00710         7717.0  \n",
      "12812           NaN        NaN  -37.72523   144.94567         7485.0  \n",
      "...             ...        ...        ...         ...            ...  \n",
      "2664           35.0     2013.0  -37.80140   144.89590         7570.0  \n",
      "8513            NaN        NaN  -37.85790   144.87860         6380.0  \n",
      "12922           NaN        NaN  -37.78094   145.10131         4480.0  \n",
      "10761         152.0     1925.0  -37.76421   144.90571         6232.0  \n",
      "2110           86.0     1880.0  -37.79620   144.98870         4553.0  \n",
      "\n",
      "[2716 rows x 12 columns]\n"
     ]
    }
   ],
   "source": [
    "import pandas as pd\n",
    "from sklearn.model_selection import train_test_split\n",
    "data = pd.read_csv('melb_data.csv')\n",
    "\n",
    "# Select target\n",
    "y = data.Price\n",
    "\n",
    "# use only numerical predictors\n",
    "melb_predictors = data.drop(['Price'], axis=1)\n",
    "X = melb_predictors.select_dtypes(exclude=['object'])\n",
    "\n",
    "# Divide data into training and validation subsets\n",
    "X_train, X_valid, y_train, y_valid = train_test_split(X, y, train_size=0.8, test_size=0.2,\n",
    "                                                      random_state=0)\n",
    "\n",
    "print(X_valid)"
   ]
  },
  {
   "cell_type": "code",
   "execution_count": 4,
   "metadata": {},
   "outputs": [],
   "source": [
    "from sklearn.ensemble import RandomForestRegressor\n",
    "from sklearn.metrics import mean_absolute_error\n",
    "\n",
    "# Function for comparing different approaches\n",
    "def score_dataset(X_train, X_valid, y_train, y_valid):\n",
    "    model = RandomForestRegressor(n_estimators=10, random_state=0)\n",
    "    model.fit(X_train, y_train)\n",
    "    preds = model.predict(X_valid)\n",
    "    return mean_absolute_error(y_valid, preds)\n"
   ]
  },
  {
   "cell_type": "code",
   "execution_count": 6,
   "metadata": {},
   "outputs": [
    {
     "name": "stdout",
     "output_type": "stream",
     "text": [
      "MAE from Approach 1 (Drop columns with missing values):\n",
      "183550.22137772635\n"
     ]
    }
   ],
   "source": [
    "# Get names of columns with missing values\n",
    "cols_with_missing = [col for col in X_train.columns\n",
    "                     if X_train[col].isnull().any()]\n",
    "\n",
    "# Drop columns in training and validation data\n",
    "reduced_X_train = X_train.drop(cols_with_missing, axis=1)\n",
    "reduced_X_valid = X_valid.drop(cols_with_missing, axis=1)\n",
    "\n",
    "print(\"MAE from Approach 1 (Drop columns with missing values):\")\n",
    "print(score_dataset(reduced_X_train, reduced_X_valid, y_train, y_valid))"
   ]
  },
  {
   "cell_type": "code",
   "execution_count": 9,
   "metadata": {},
   "outputs": [
    {
     "name": "stdout",
     "output_type": "stream",
     "text": [
      "       Rooms  Distance  Postcode  Bedroom2  Bathroom  Car  Landsize   \n",
      "0        1.0       5.0    3182.0       1.0       1.0  1.0       0.0  \\\n",
      "1        2.0       8.0    3016.0       2.0       2.0  1.0     193.0   \n",
      "2        3.0      12.6    3020.0       3.0       1.0  1.0     555.0   \n",
      "3        3.0      13.0    3046.0       3.0       1.0  1.0     265.0   \n",
      "4        3.0      13.3    3020.0       3.0       1.0  2.0     673.0   \n",
      "...      ...       ...       ...       ...       ...  ...       ...   \n",
      "10859    3.0       5.2    3056.0       3.0       1.0  2.0     212.0   \n",
      "10860    3.0      10.5    3081.0       3.0       1.0  1.0     748.0   \n",
      "10861    4.0       6.7    3058.0       4.0       2.0  2.0     441.0   \n",
      "10862    3.0      12.0    3073.0       3.0       1.0  1.0     606.0   \n",
      "10863    4.0       6.4    3011.0       4.0       2.0  1.0     319.0   \n",
      "\n",
      "       BuildingArea    YearBuilt  Lattitude  Longtitude  Propertycount  \n",
      "0        153.764119  1940.000000  -37.85984   144.98670        13240.0  \n",
      "1        153.764119  1964.839866  -37.85800   144.90050         6380.0  \n",
      "2        153.764119  1964.839866  -37.79880   144.82200         3755.0  \n",
      "3        153.764119  1995.000000  -37.70830   144.91580         8870.0  \n",
      "4        673.000000  1970.000000  -37.76230   144.82720         4217.0  \n",
      "...             ...          ...        ...         ...            ...  \n",
      "10859    153.764119  1964.839866  -37.77695   144.95785        11918.0  \n",
      "10860    101.000000  1950.000000  -37.74160   145.04810         2947.0  \n",
      "10861    255.000000  2002.000000  -37.73572   144.97256        11204.0  \n",
      "10862    153.764119  1964.839866  -37.72057   145.02615        21650.0  \n",
      "10863    130.000000  1915.000000  -37.79430   144.88750         7570.0  \n",
      "\n",
      "[10864 rows x 12 columns]\n"
     ]
    }
   ],
   "source": [
    "from sklearn.impute import SimpleImputer\n",
    "\n",
    "imputer = SimpleImputer()\n",
    "imputed_X_train = pd.DataFrame(imputer.fit_transform(X_train))\n",
    "imputed_X_valid = pd.DataFrame(imputer.transform(X_valid))\n",
    "\n",
    "# Imputation removed column names; put them back\n",
    "imputed_X_train.columns = X_train.columns\n",
    "imputed_X_valid.columns = X_valid.columns\n",
    "\n",
    "print(imputed_X_train)"
   ]
  },
  {
   "cell_type": "code",
   "execution_count": 11,
   "metadata": {},
   "outputs": [
    {
     "name": "stdout",
     "output_type": "stream",
     "text": [
      "MAE from Approach 2 (Imputation):\n",
      "178166.46269899711\n"
     ]
    }
   ],
   "source": [
    "print(\"MAE from Approach 2 (Imputation):\")\n",
    "print(score_dataset(imputed_X_train, imputed_X_valid, y_train, y_valid))"
   ]
  },
  {
   "cell_type": "code",
   "execution_count": 12,
   "metadata": {},
   "outputs": [],
   "source": [
    "# Make copy to avoid changing original data (when imputing)\n",
    "X_train_plus = X_train.copy()\n",
    "X_valid_plus = X_valid.copy()"
   ]
  },
  {
   "cell_type": "code",
   "execution_count": 18,
   "metadata": {},
   "outputs": [
    {
     "name": "stdout",
     "output_type": "stream",
     "text": [
      "MAE from Approach 3 (An Extension to Imputation):\n",
      "178927.503183954\n"
     ]
    }
   ],
   "source": [
    "# Make new columns indicating what will be imputed\n",
    "for col in cols_with_missing:\n",
    "    X_train_plus[col + '_was_missing'] = X_train_plus[col].isnull()\n",
    "    X_valid_plus[col + '_was_missing'] = X_valid_plus[col].isnull()\n",
    "\n",
    "# X_train_plus.info()\n",
    "# Imputation\n",
    "my_imputer = SimpleImputer()\n",
    "imputed_X_train_plus = pd.DataFrame(my_imputer.fit_transform(X_train_plus))\n",
    "imputed_X_valid_plus = pd.DataFrame(my_imputer.transform(X_valid_plus))\n",
    "\n",
    "# Imputation removed column names; put them back\n",
    "imputed_X_train_plus.columns = X_train_plus.columns\n",
    "imputed_X_valid_plus.columns = X_valid_plus.columns\n",
    "\n",
    "print(\"MAE from Approach 3 (An Extension to Imputation):\")\n",
    "print(score_dataset(imputed_X_train_plus, imputed_X_valid_plus, y_train, y_valid))"
   ]
  },
  {
   "cell_type": "code",
   "execution_count": 23,
   "metadata": {},
   "outputs": [
    {
     "name": "stdout",
     "output_type": "stream",
     "text": [
      "(10864, 12)\n",
      "Car               49\n",
      "BuildingArea    5156\n",
      "YearBuilt       4307\n",
      "dtype: int64\n"
     ]
    },
    {
     "data": {
      "text/plain": [
       "9512"
      ]
     },
     "execution_count": 23,
     "metadata": {},
     "output_type": "execute_result"
    }
   ],
   "source": [
    "# Shape of training data (num_rows, num_columns)\n",
    "print(X_train.shape)\n",
    "\n",
    "# Number of missing values in each column of training data\n",
    "missing_val_count_by_column = (X_train.isnull().sum())\n",
    "print(missing_val_count_by_column[missing_val_count_by_column > 0])\n",
    "sum(missing_val_count_by_column[missing_val_count_by_column > 0])"
   ]
  }
 ],
 "metadata": {
  "kernelspec": {
   "display_name": "Python 3",
   "language": "python",
   "name": "python3"
  },
  "language_info": {
   "codemirror_mode": {
    "name": "ipython",
    "version": 3
   },
   "file_extension": ".py",
   "mimetype": "text/x-python",
   "name": "python",
   "nbconvert_exporter": "python",
   "pygments_lexer": "ipython3",
   "version": "3.11.3"
  },
  "orig_nbformat": 4
 },
 "nbformat": 4,
 "nbformat_minor": 2
}
