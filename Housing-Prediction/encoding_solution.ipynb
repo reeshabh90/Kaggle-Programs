{
 "cells": [
  {
   "cell_type": "code",
   "execution_count": 3,
   "metadata": {},
   "outputs": [
    {
     "name": "stdout",
     "output_type": "stream",
     "text": [
      "['Type', 'Method', 'Regionname']\n"
     ]
    }
   ],
   "source": [
    "import pandas as pd\n",
    "from sklearn.model_selection import train_test_split\n",
    "data = pd.read_csv('melb_data.csv')\n",
    "\n",
    "# Separate target from predictors\n",
    "y = data.Price\n",
    "X = data.drop(['Price'], axis=1)\n",
    "\n",
    "# Divide data into training and validation subsets\n",
    "X_train_full, X_valid_full, y_train, y_valid = train_test_split(X, y, train_size=0.8, test_size=0.2,\n",
    "                                                                random_state=0)\n",
    "\n",
    "# Drop columns with missing values (simplest approach)\n",
    "cols_with_missing = [col for col in X_train_full.columns if X_train_full[col].isnull().any()] \n",
    "X_train_full.drop(cols_with_missing, axis=1, inplace=True)\n",
    "X_valid_full.drop(cols_with_missing, axis=1, inplace=True)\n",
    "\n",
    "# \"Cardinality\" means the number of unique values in a column\n",
    "# Select categorical columns with relatively low cardinality (convenient but arbitrary)\n",
    "low_cardinality_cols = [cname for cname in X_train_full.columns if X_train_full[cname].nunique() < 10 and \n",
    "                        X_train_full[cname].dtype == \"object\"]\n",
    "\n",
    "# Select numerical columns\n",
    "numerical_cols = [cname for cname in X_train_full.columns if X_train_full[cname].dtype in ['int64', 'float64']]\n",
    "\n",
    "# Keep selected columns only\n",
    "my_cols = low_cardinality_cols + numerical_cols\n",
    "X_train = X_train_full[my_cols].copy()\n",
    "X_valid = X_valid_full[my_cols].copy()\n",
    "print(low_cardinality_cols)"
   ]
  },
  {
   "cell_type": "code",
   "execution_count": 4,
   "metadata": {},
   "outputs": [
    {
     "name": "stdout",
     "output_type": "stream",
     "text": [
      "Categorical variables:\n",
      "['Type', 'Method', 'Regionname']\n"
     ]
    }
   ],
   "source": [
    "# Get list of categorical variables\n",
    "s = (X_train.dtypes == 'object')\n",
    "object_cols = list(s[s].index)\n",
    "\n",
    "print(\"Categorical variables:\")\n",
    "print(object_cols)"
   ]
  },
  {
   "cell_type": "code",
   "execution_count": 5,
   "metadata": {},
   "outputs": [],
   "source": [
    "from sklearn.ensemble import RandomForestRegressor\n",
    "from sklearn.metrics import mean_absolute_error\n",
    "\n",
    "# Function for comparing different approaches\n",
    "def score_dataset(X_train, X_valid, y_train, y_valid):\n",
    "    model = RandomForestRegressor(n_estimators=100, random_state=0)\n",
    "    model.fit(X_train, y_train)\n",
    "    preds = model.predict(X_valid)\n",
    "    return mean_absolute_error(y_valid, preds)"
   ]
  },
  {
   "cell_type": "code",
   "execution_count": 6,
   "metadata": {},
   "outputs": [
    {
     "name": "stdout",
     "output_type": "stream",
     "text": [
      "MAE from Approach 1 (Drop categorical variables):\n",
      "175703.48185157913\n"
     ]
    }
   ],
   "source": [
    "drop_X_train = X_train.select_dtypes(exclude=['object'])\n",
    "drop_X_valid = X_valid.select_dtypes(exclude=['object'])\n",
    "print(\"MAE from Approach 1 (Drop categorical variables):\")\n",
    "print(score_dataset(drop_X_train, drop_X_valid, y_train, y_valid))"
   ]
  },
  {
   "cell_type": "code",
   "execution_count": 7,
   "metadata": {},
   "outputs": [
    {
     "name": "stdout",
     "output_type": "stream",
     "text": [
      "       Type  Method  Regionname\n",
      "12167   2.0     1.0         5.0\n",
      "6524    0.0     2.0         6.0\n",
      "8413    0.0     1.0         6.0\n",
      "2919    2.0     3.0         2.0\n",
      "6043    0.0     1.0         6.0\n",
      "...     ...     ...         ...\n",
      "13123   0.0     3.0         2.0\n",
      "3264    0.0     1.0         0.0\n",
      "9845    0.0     0.0         2.0\n",
      "10799   0.0     1.0         2.0\n",
      "2732    0.0     3.0         6.0\n",
      "\n",
      "[10864 rows x 3 columns]\n",
      "MAE from Approach 2 (Ordinal Encoding):\n",
      "165936.40548390493\n"
     ]
    }
   ],
   "source": [
    "from sklearn.preprocessing import OrdinalEncoder\n",
    "\n",
    "# Make copy to avoid changing original data \n",
    "label_X_train = X_train.copy()\n",
    "label_X_valid = X_valid.copy()\n",
    "\n",
    "# Categorical columns in the training data\n",
    "object_cols = [col for col in X_train.columns if X_train[col].dtype == \"object\"]\n",
    "\n",
    "# Columns that can be safely ordinal encoded\n",
    "good_label_cols = [col for col in object_cols if \n",
    "                   set(X_valid[col]).issubset(set(X_train[col]))]\n",
    "        \n",
    "# Problematic columns that will be dropped from the dataset\n",
    "bad_label_cols = list(set(object_cols)-set(good_label_cols))\n",
    "# Apply ordinal encoder to each column with categorical data\n",
    "ordinal_encoder = OrdinalEncoder()\n",
    "label_X_train[object_cols] = ordinal_encoder.fit_transform(X_train[object_cols])\n",
    "label_X_valid[object_cols] = ordinal_encoder.transform(X_valid[object_cols])\n",
    "print(label_X_train[object_cols])\n",
    "print(\"MAE from Approach 2 (Ordinal Encoding):\") \n",
    "print(score_dataset(label_X_train, label_X_valid, y_train, y_valid))"
   ]
  },
  {
   "cell_type": "code",
   "execution_count": 11,
   "metadata": {},
   "outputs": [
    {
     "name": "stdout",
     "output_type": "stream",
     "text": [
      "[('Type', 3), ('Method', 5), ('Regionname', 8)]\n",
      "       Type_h  Type_t  Type_u  Method_PI  Method_S  Method_SA  Method_SP   \n",
      "8505      1.0     0.0     0.0        0.0       0.0        0.0        1.0  \\\n",
      "5523      1.0     0.0     0.0        0.0       1.0        0.0        0.0   \n",
      "12852     1.0     0.0     0.0        0.0       0.0        0.0        1.0   \n",
      "4818      0.0     1.0     0.0        1.0       0.0        0.0        0.0   \n",
      "12812     1.0     0.0     0.0        0.0       1.0        0.0        0.0   \n",
      "...       ...     ...     ...        ...       ...        ...        ...   \n",
      "2664      0.0     0.0     1.0        1.0       0.0        0.0        0.0   \n",
      "8513      1.0     0.0     0.0        0.0       0.0        0.0        1.0   \n",
      "12922     1.0     0.0     0.0        0.0       1.0        0.0        0.0   \n",
      "10761     1.0     0.0     0.0        0.0       1.0        0.0        0.0   \n",
      "2110      1.0     0.0     0.0        0.0       0.0        0.0        1.0   \n",
      "\n",
      "       Method_VB  Regionname_Eastern Metropolitan   \n",
      "8505         0.0                              0.0  \\\n",
      "5523         0.0                              0.0   \n",
      "12852        0.0                              0.0   \n",
      "4818         0.0                              0.0   \n",
      "12812        0.0                              0.0   \n",
      "...          ...                              ...   \n",
      "2664         0.0                              0.0   \n",
      "8513         0.0                              0.0   \n",
      "12922        0.0                              1.0   \n",
      "10761        0.0                              0.0   \n",
      "2110         0.0                              0.0   \n",
      "\n",
      "       Regionname_Eastern Victoria  Regionname_Northern Metropolitan   \n",
      "8505                           0.0                               0.0  \\\n",
      "5523                           0.0                               0.0   \n",
      "12852                          0.0                               0.0   \n",
      "4818                           0.0                               0.0   \n",
      "12812                          0.0                               1.0   \n",
      "...                            ...                               ...   \n",
      "2664                           0.0                               0.0   \n",
      "8513                           0.0                               0.0   \n",
      "12922                          0.0                               0.0   \n",
      "10761                          0.0                               0.0   \n",
      "2110                           0.0                               1.0   \n",
      "\n",
      "       Regionname_Northern Victoria  Regionname_South-Eastern Metropolitan   \n",
      "8505                            0.0                                    0.0  \\\n",
      "5523                            0.0                                    0.0   \n",
      "12852                           0.0                                    0.0   \n",
      "4818                            0.0                                    0.0   \n",
      "12812                           0.0                                    0.0   \n",
      "...                             ...                                    ...   \n",
      "2664                            0.0                                    0.0   \n",
      "8513                            0.0                                    0.0   \n",
      "12922                           0.0                                    0.0   \n",
      "10761                           0.0                                    0.0   \n",
      "2110                            0.0                                    0.0   \n",
      "\n",
      "       Regionname_Southern Metropolitan  Regionname_Western Metropolitan   \n",
      "8505                                0.0                              1.0  \\\n",
      "5523                                0.0                              1.0   \n",
      "12852                               0.0                              1.0   \n",
      "4818                                1.0                              0.0   \n",
      "12812                               0.0                              0.0   \n",
      "...                                 ...                              ...   \n",
      "2664                                0.0                              1.0   \n",
      "8513                                0.0                              1.0   \n",
      "12922                               0.0                              0.0   \n",
      "10761                               0.0                              1.0   \n",
      "2110                                0.0                              0.0   \n",
      "\n",
      "       Regionname_Western Victoria  \n",
      "8505                           0.0  \n",
      "5523                           0.0  \n",
      "12852                          0.0  \n",
      "4818                           0.0  \n",
      "12812                          0.0  \n",
      "...                            ...  \n",
      "2664                           0.0  \n",
      "8513                           0.0  \n",
      "12922                          0.0  \n",
      "10761                          0.0  \n",
      "2110                           0.0  \n",
      "\n",
      "[2716 rows x 16 columns]\n"
     ]
    },
    {
     "name": "stderr",
     "output_type": "stream",
     "text": [
      "C:\\Users\\rchoudhary\\AppData\\Roaming\\Python\\Python311\\site-packages\\sklearn\\preprocessing\\_encoders.py:868: FutureWarning: `sparse` was renamed to `sparse_output` in version 1.2 and will be removed in 1.4. `sparse_output` is ignored unless you leave `sparse` to its default value.\n",
      "  warnings.warn(\n"
     ]
    }
   ],
   "source": [
    "from sklearn.preprocessing import OneHotEncoder\n",
    "#print(X_train)\n",
    "# Get number of unique entries in each column with categorical data\n",
    "object_nunique = list(map(lambda col: X_train[col].nunique(), object_cols))\n",
    "d = dict(zip(object_cols, object_nunique))\n",
    "\n",
    "# Print number of unique entries by column, in ascending order\n",
    "print(sorted(d.items(), key=lambda x: x[1]))\n",
    "\n",
    "# Columns that will be one-hot encoded\n",
    "low_cardinality_cols = [\n",
    "    col for col in object_cols if X_train[col].nunique() < 10]\n",
    "# Columns that will be dropped from the dataset\n",
    "high_cardinality_cols = list(set(object_cols)-set(low_cardinality_cols))\n",
    "\n",
    "# Define the column transformer to apply one-hot encoding to categorical columns\n",
    "\n",
    "# Apply one-hot encoder to each column with categorical data\n",
    "OH_encoder = OneHotEncoder(handle_unknown='ignore', sparse=False)\n",
    "OH_cols_train = pd.DataFrame(OH_encoder.fit_transform(X_train[object_cols]))\n",
    "OH_cols_train.columns = OH_encoder.get_feature_names_out(object_cols)\n",
    "OH_cols_valid = pd.DataFrame(OH_encoder.transform(X_valid[object_cols]))\n",
    "OH_cols_valid.columns = OH_encoder.get_feature_names_out(object_cols)\n",
    "# # Get the feature names from the column transformer\n",
    "# X_train_encoded = ct.fit_transform(X_train[object_cols])\n",
    "# feature_names = ct.get_feature_names_out()\n",
    "# print(feature_names)\n",
    "# One-hot encoding removed index; put it back\n",
    "OH_cols_train.index = X_train.index\n",
    "OH_cols_valid.index = X_valid.index\n",
    "print(OH_cols_valid)"
   ]
  },
  {
   "cell_type": "code",
   "execution_count": 9,
   "metadata": {},
   "outputs": [
    {
     "name": "stdout",
     "output_type": "stream",
     "text": [
      "MAE from Approach 3 (One-Hot Encoding):\n",
      "166089.4893009678\n"
     ]
    }
   ],
   "source": [
    "# Remove categorical columns (will replace with one-hot encoding)\n",
    "num_X_train = X_train.drop(object_cols, axis=1)\n",
    "num_X_valid = X_valid.drop(object_cols, axis=1)\n",
    "\n",
    "# Add one-hot encoded columns to numerical features\n",
    "OH_X_train = pd.concat([num_X_train, OH_cols_train], axis=1)\n",
    "OH_X_valid = pd.concat([num_X_valid, OH_cols_valid], axis=1)\n",
    "\n",
    "# Ensure all columns have string type\n",
    "OH_X_train.columns = OH_X_train.columns.astype(str)\n",
    "OH_X_valid.columns = OH_X_valid.columns.astype(str)\n",
    "\n",
    "print(\"MAE from Approach 3 (One-Hot Encoding):\") \n",
    "print(score_dataset(OH_X_train, OH_X_valid, y_train, y_valid))\n"
   ]
  }
 ],
 "metadata": {
  "kernelspec": {
   "display_name": "Python 3",
   "language": "python",
   "name": "python3"
  },
  "language_info": {
   "codemirror_mode": {
    "name": "ipython",
    "version": 3
   },
   "file_extension": ".py",
   "mimetype": "text/x-python",
   "name": "python",
   "nbconvert_exporter": "python",
   "pygments_lexer": "ipython3",
   "version": "3.11.3"
  },
  "orig_nbformat": 4
 },
 "nbformat": 4,
 "nbformat_minor": 2
}
